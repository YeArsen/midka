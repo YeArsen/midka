{
 "cells": [
  {
   "cell_type": "markdown",
   "id": "00b12c16",
   "metadata": {},
   "source": [
    "# H1: Big Data in Law Enforcement\n"
   ]
  },
  {
   "cell_type": "markdown",
   "id": "d8a8aaa9",
   "metadata": {},
   "source": [
    "## H2:  Introduction\n",
    "Cyber security is the practice of protecting systems, networks, and data from cyber attacks. It is important for businesses and individuals alike, as cyber attacks can cause significant financial and reputational damage."
   ]
  },
  {
   "cell_type": "markdown",
   "id": "5a947b4c",
   "metadata": {},
   "source": [
    "*Some of the popular languages that Data Scientists use are*\n",
    "1. Python\n",
    "2. Java\n",
    "3. SQL"
   ]
  },
  {
   "cell_type": "markdown",
   "id": "0ba5e050",
   "metadata": {},
   "source": [
    "*Some of the commonly used libraries used by Data Scientist include*\n",
    "- NumPy\n",
    "- PyTorch\n",
    "- TensorFlow\n"
   ]
  },
  {
   "cell_type": "markdown",
   "id": "98540600",
   "metadata": {},
   "source": [
    "| Data Science Tools |\n",
    "| -------------| \n",
    "| Jupyter Notebook | \n",
    "| PyCharm | \n",
    "| Visual Studio Code | "
   ]
  },
  {
   "cell_type": "markdown",
   "id": "f8180983",
   "metadata": {},
   "source": [
    "### H3: Below are a few examples of evaluating arithmetic expressions in Python."
   ]
  },
  {
   "cell_type": "code",
   "execution_count": 1,
   "id": "476471ed",
   "metadata": {},
   "outputs": [
    {
     "data": {
      "text/plain": [
       "33"
      ]
     },
     "execution_count": 1,
     "metadata": {},
     "output_type": "execute_result"
    }
   ],
   "source": [
    "#This is a simple arithmetic expression\n",
    "(4*6)+9"
   ]
  },
  {
   "cell_type": "code",
   "execution_count": 2,
   "id": "d877cedf",
   "metadata": {},
   "outputs": [
    {
     "data": {
      "text/plain": [
       "5.0"
      ]
     },
     "execution_count": 2,
     "metadata": {},
     "output_type": "execute_result"
    }
   ],
   "source": [
    "#This will convert 300 minutes to hours by dividing by 60.\n",
    "300/60"
   ]
  },
  {
   "cell_type": "markdown",
   "id": "d7021b8e",
   "metadata": {},
   "source": [
    "**Objectives**\n",
    "List of popular languages for Data Science \n",
    "- Python\n",
    "- JavaScript\n",
    "- SQL"
   ]
  },
  {
   "cell_type": "markdown",
   "id": "855dbed2",
   "metadata": {},
   "source": [
    "## H2:   Author\n",
    "Arsen Yestemes"
   ]
  }
 ],
 "metadata": {
  "kernelspec": {
   "display_name": "Python 3 (ipykernel)",
   "language": "python",
   "name": "python3"
  },
  "language_info": {
   "codemirror_mode": {
    "name": "ipython",
    "version": 3
   },
   "file_extension": ".py",
   "mimetype": "text/x-python",
   "name": "python",
   "nbconvert_exporter": "python",
   "pygments_lexer": "ipython3",
   "version": "3.8.18"
  }
 },
 "nbformat": 4,
 "nbformat_minor": 5
}
